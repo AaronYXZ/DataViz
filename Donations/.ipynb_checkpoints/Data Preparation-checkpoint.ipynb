{
 "cells": [
  {
   "cell_type": "code",
   "execution_count": 1,
   "metadata": {
    "collapsed": true
   },
   "outputs": [],
   "source": [
    "import warnings\n",
    "warnings.filterwarnings('ignore')\n",
    "\n",
    "import pandas as pd \n",
    "import numpy as np\n",
    "import seaborn as sns; sns.set(font_scale=1.7) \n",
    "import matplotlib.pyplot as plt\n",
    "import sklearn\n",
    "import statsmodels.api as sm\n",
    "import math\n",
    "import json\n",
    "from sklearn.model_selection import train_test_split, KFold\n",
    "from sklearn.ensemble import BaggingClassifier, RandomForestClassifier, GradientBoostingClassifier \n",
    "import xgboost as xgb\n",
    "import re\n",
    "from sklearn.metrics import log_loss, auc, roc_curve"
   ]
  },
  {
   "cell_type": "code",
   "execution_count": 17,
   "metadata": {
    "collapsed": false
   },
   "outputs": [],
   "source": [
    "p = pd.read_csv('opendata_projects000', header=None)"
   ]
  },
  {
   "cell_type": "code",
   "execution_count": 14,
   "metadata": {
    "collapsed": true
   },
   "outputs": [],
   "source": [
    "col = ['projectid','teacheracctid','schoolid', 'school_ncesid', 'school_latitude','school_longitude','school_city','school_state','school_zip','school_metro','school_district','school_county','school_charter','school_magnet','school_year_round','school_nlns','school_kipp','school_charter_ready_promise','teacher_prefix','teacher_teach_for_america','teacher_ny_teaching_fellow','primary_focus_subject','primary_focus_area','secondary_focus_subject','secondary_focus_area','resource_type','poverty_level','grade_level','vendor_shipping_charges','sales_tax','payment_processing_charges','fulfillment_labor_materials','total_price_excluding_opt_donation','total_price_including_opt_donation','students_reached','total_donations','num_donors','eligible_double_your_impact_match','eligible_almost_home_match','funding_status','date_posted','date_completed','date_thank_you_packet_mailed','date_expiration']"
   ]
  },
  {
   "cell_type": "code",
   "execution_count": 15,
   "metadata": {
    "collapsed": false
   },
   "outputs": [
    {
     "data": {
      "text/plain": [
       "44"
      ]
     },
     "execution_count": 15,
     "metadata": {},
     "output_type": "execute_result"
    }
   ],
   "source": [
    "len(col)"
   ]
  },
  {
   "cell_type": "code",
   "execution_count": 18,
   "metadata": {
    "collapsed": false
   },
   "outputs": [],
   "source": [
    "p.columns = col"
   ]
  },
  {
   "cell_type": "code",
   "execution_count": 19,
   "metadata": {
    "collapsed": false
   },
   "outputs": [
    {
     "data": {
      "text/html": [
       "<div>\n",
       "<style>\n",
       "    .dataframe thead tr:only-child th {\n",
       "        text-align: right;\n",
       "    }\n",
       "\n",
       "    .dataframe thead th {\n",
       "        text-align: left;\n",
       "    }\n",
       "\n",
       "    .dataframe tbody tr th {\n",
       "        vertical-align: top;\n",
       "    }\n",
       "</style>\n",
       "<table border=\"1\" class=\"dataframe\">\n",
       "  <thead>\n",
       "    <tr style=\"text-align: right;\">\n",
       "      <th></th>\n",
       "      <th>projectid</th>\n",
       "      <th>teacheracctid</th>\n",
       "      <th>schoolid</th>\n",
       "      <th>school_ncesid</th>\n",
       "      <th>school_latitude</th>\n",
       "      <th>school_longitude</th>\n",
       "      <th>school_city</th>\n",
       "      <th>school_state</th>\n",
       "      <th>school_zip</th>\n",
       "      <th>school_metro</th>\n",
       "      <th>...</th>\n",
       "      <th>students_reached</th>\n",
       "      <th>total_donations</th>\n",
       "      <th>num_donors</th>\n",
       "      <th>eligible_double_your_impact_match</th>\n",
       "      <th>eligible_almost_home_match</th>\n",
       "      <th>funding_status</th>\n",
       "      <th>date_posted</th>\n",
       "      <th>date_completed</th>\n",
       "      <th>date_thank_you_packet_mailed</th>\n",
       "      <th>date_expiration</th>\n",
       "    </tr>\n",
       "  </thead>\n",
       "  <tbody>\n",
       "    <tr>\n",
       "      <th>0</th>\n",
       "      <td>7342bd01a2a7725ce033a179d22e382d</td>\n",
       "      <td>5c43ef5eac0f5857c266baa1ccfa3d3f</td>\n",
       "      <td>9e72d6f2f1e9367b578b6479aa5852b7</td>\n",
       "      <td>3.600097e+11</td>\n",
       "      <td>40.688454</td>\n",
       "      <td>-73.910432</td>\n",
       "      <td>New York City</td>\n",
       "      <td>NY</td>\n",
       "      <td>11207.0</td>\n",
       "      <td>urban</td>\n",
       "      <td>...</td>\n",
       "      <td>0.0</td>\n",
       "      <td>251.9</td>\n",
       "      <td>1</td>\n",
       "      <td>f</td>\n",
       "      <td>f</td>\n",
       "      <td>completed</td>\n",
       "      <td>2002-09-13 00:00:00</td>\n",
       "      <td>2002-09-23 00:00:00</td>\n",
       "      <td>2003-01-27 00:00:00</td>\n",
       "      <td>2003-12-31 00:00:00</td>\n",
       "    </tr>\n",
       "    <tr>\n",
       "      <th>1</th>\n",
       "      <td>ed87d61cef7fda668ae70be7e0c6cebf</td>\n",
       "      <td>1f4493b3d3fe4a611f3f4d21a249376a</td>\n",
       "      <td>1ae4695be589a36816188e2b301a0395</td>\n",
       "      <td>3.600077e+11</td>\n",
       "      <td>40.765517</td>\n",
       "      <td>-73.960090</td>\n",
       "      <td>New York City</td>\n",
       "      <td>NY</td>\n",
       "      <td>10065.0</td>\n",
       "      <td>NaN</td>\n",
       "      <td>...</td>\n",
       "      <td>0.0</td>\n",
       "      <td>137.0</td>\n",
       "      <td>1</td>\n",
       "      <td>f</td>\n",
       "      <td>f</td>\n",
       "      <td>completed</td>\n",
       "      <td>2002-09-13 00:00:00</td>\n",
       "      <td>2002-09-23 00:00:00</td>\n",
       "      <td>2003-01-03 00:00:00</td>\n",
       "      <td>2003-12-31 00:00:00</td>\n",
       "    </tr>\n",
       "    <tr>\n",
       "      <th>2</th>\n",
       "      <td>b56b502d25666e29550d107bf7e17910</td>\n",
       "      <td>57426949b47700ccf62098e1e9b0220c</td>\n",
       "      <td>4a06a328dd87bd29892d73310052f45f</td>\n",
       "      <td>3.600077e+11</td>\n",
       "      <td>40.770233</td>\n",
       "      <td>-73.950760</td>\n",
       "      <td>New York City</td>\n",
       "      <td>NY</td>\n",
       "      <td>10075.0</td>\n",
       "      <td>NaN</td>\n",
       "      <td>...</td>\n",
       "      <td>0.0</td>\n",
       "      <td>125.0</td>\n",
       "      <td>1</td>\n",
       "      <td>f</td>\n",
       "      <td>f</td>\n",
       "      <td>completed</td>\n",
       "      <td>2002-09-16 00:00:00</td>\n",
       "      <td>2002-09-19 00:00:00</td>\n",
       "      <td>2002-12-19 00:00:00</td>\n",
       "      <td>2003-12-31 00:00:00</td>\n",
       "    </tr>\n",
       "    <tr>\n",
       "      <th>3</th>\n",
       "      <td>016f03312995d5c89d6b348be4682166</td>\n",
       "      <td>9c0aa56b63b743454d6da9effcf122fc</td>\n",
       "      <td>bb0af5dac1b54693ba86ef63eacd6594</td>\n",
       "      <td>3.600076e+11</td>\n",
       "      <td>40.727826</td>\n",
       "      <td>-73.978721</td>\n",
       "      <td>New York City</td>\n",
       "      <td>NY</td>\n",
       "      <td>10009.0</td>\n",
       "      <td>urban</td>\n",
       "      <td>...</td>\n",
       "      <td>0.0</td>\n",
       "      <td>205.0</td>\n",
       "      <td>1</td>\n",
       "      <td>f</td>\n",
       "      <td>f</td>\n",
       "      <td>completed</td>\n",
       "      <td>2002-09-17 00:00:00</td>\n",
       "      <td>2002-09-17 00:00:00</td>\n",
       "      <td>2002-12-02 00:00:00</td>\n",
       "      <td>2003-12-31 00:00:00</td>\n",
       "    </tr>\n",
       "    <tr>\n",
       "      <th>4</th>\n",
       "      <td>cf6275558534ca1b276b0d8d5130dd9a</td>\n",
       "      <td>1d4d8a42730dbb66af1ebb6ab37456b7</td>\n",
       "      <td>768dab263f87881fe7c68ffb3965df7c</td>\n",
       "      <td>3.600083e+11</td>\n",
       "      <td>40.841216</td>\n",
       "      <td>-73.938605</td>\n",
       "      <td>New York City</td>\n",
       "      <td>NY</td>\n",
       "      <td>10032.0</td>\n",
       "      <td>urban</td>\n",
       "      <td>...</td>\n",
       "      <td>0.0</td>\n",
       "      <td>264.0</td>\n",
       "      <td>1</td>\n",
       "      <td>f</td>\n",
       "      <td>f</td>\n",
       "      <td>completed</td>\n",
       "      <td>2002-09-17 00:00:00</td>\n",
       "      <td>2002-09-23 00:00:00</td>\n",
       "      <td>2003-02-26 00:00:00</td>\n",
       "      <td>2003-12-31 00:00:00</td>\n",
       "    </tr>\n",
       "  </tbody>\n",
       "</table>\n",
       "<p>5 rows × 44 columns</p>\n",
       "</div>"
      ],
      "text/plain": [
       "                          projectid                     teacheracctid  \\\n",
       "0  7342bd01a2a7725ce033a179d22e382d  5c43ef5eac0f5857c266baa1ccfa3d3f   \n",
       "1  ed87d61cef7fda668ae70be7e0c6cebf  1f4493b3d3fe4a611f3f4d21a249376a   \n",
       "2  b56b502d25666e29550d107bf7e17910  57426949b47700ccf62098e1e9b0220c   \n",
       "3  016f03312995d5c89d6b348be4682166  9c0aa56b63b743454d6da9effcf122fc   \n",
       "4  cf6275558534ca1b276b0d8d5130dd9a  1d4d8a42730dbb66af1ebb6ab37456b7   \n",
       "\n",
       "                           schoolid  school_ncesid  school_latitude  \\\n",
       "0  9e72d6f2f1e9367b578b6479aa5852b7   3.600097e+11        40.688454   \n",
       "1  1ae4695be589a36816188e2b301a0395   3.600077e+11        40.765517   \n",
       "2  4a06a328dd87bd29892d73310052f45f   3.600077e+11        40.770233   \n",
       "3  bb0af5dac1b54693ba86ef63eacd6594   3.600076e+11        40.727826   \n",
       "4  768dab263f87881fe7c68ffb3965df7c   3.600083e+11        40.841216   \n",
       "\n",
       "   school_longitude    school_city school_state  school_zip school_metro  \\\n",
       "0        -73.910432  New York City           NY     11207.0        urban   \n",
       "1        -73.960090  New York City           NY     10065.0          NaN   \n",
       "2        -73.950760  New York City           NY     10075.0          NaN   \n",
       "3        -73.978721  New York City           NY     10009.0        urban   \n",
       "4        -73.938605  New York City           NY     10032.0        urban   \n",
       "\n",
       "          ...          students_reached total_donations num_donors  \\\n",
       "0         ...                       0.0           251.9          1   \n",
       "1         ...                       0.0           137.0          1   \n",
       "2         ...                       0.0           125.0          1   \n",
       "3         ...                       0.0           205.0          1   \n",
       "4         ...                       0.0           264.0          1   \n",
       "\n",
       "  eligible_double_your_impact_match eligible_almost_home_match funding_status  \\\n",
       "0                                 f                          f      completed   \n",
       "1                                 f                          f      completed   \n",
       "2                                 f                          f      completed   \n",
       "3                                 f                          f      completed   \n",
       "4                                 f                          f      completed   \n",
       "\n",
       "           date_posted       date_completed date_thank_you_packet_mailed  \\\n",
       "0  2002-09-13 00:00:00  2002-09-23 00:00:00          2003-01-27 00:00:00   \n",
       "1  2002-09-13 00:00:00  2002-09-23 00:00:00          2003-01-03 00:00:00   \n",
       "2  2002-09-16 00:00:00  2002-09-19 00:00:00          2002-12-19 00:00:00   \n",
       "3  2002-09-17 00:00:00  2002-09-17 00:00:00          2002-12-02 00:00:00   \n",
       "4  2002-09-17 00:00:00  2002-09-23 00:00:00          2003-02-26 00:00:00   \n",
       "\n",
       "       date_expiration  \n",
       "0  2003-12-31 00:00:00  \n",
       "1  2003-12-31 00:00:00  \n",
       "2  2003-12-31 00:00:00  \n",
       "3  2003-12-31 00:00:00  \n",
       "4  2003-12-31 00:00:00  \n",
       "\n",
       "[5 rows x 44 columns]"
      ]
     },
     "execution_count": 19,
     "metadata": {},
     "output_type": "execute_result"
    }
   ],
   "source": [
    "p.head()"
   ]
  },
  {
   "cell_type": "code",
   "execution_count": 20,
   "metadata": {
    "collapsed": true
   },
   "outputs": [],
   "source": [
    "col_to_use = ['school_state','resource_type', 'poverty_level','date_posted','total_donations']"
   ]
  },
  {
   "cell_type": "code",
   "execution_count": 21,
   "metadata": {
    "collapsed": true
   },
   "outputs": [],
   "source": [
    "part = p[col_to_use]"
   ]
  },
  {
   "cell_type": "code",
   "execution_count": 22,
   "metadata": {
    "collapsed": false
   },
   "outputs": [
    {
     "data": {
      "text/html": [
       "<div>\n",
       "<style>\n",
       "    .dataframe thead tr:only-child th {\n",
       "        text-align: right;\n",
       "    }\n",
       "\n",
       "    .dataframe thead th {\n",
       "        text-align: left;\n",
       "    }\n",
       "\n",
       "    .dataframe tbody tr th {\n",
       "        vertical-align: top;\n",
       "    }\n",
       "</style>\n",
       "<table border=\"1\" class=\"dataframe\">\n",
       "  <thead>\n",
       "    <tr style=\"text-align: right;\">\n",
       "      <th></th>\n",
       "      <th>school_state</th>\n",
       "      <th>resource_type</th>\n",
       "      <th>poverty_level</th>\n",
       "      <th>date_posted</th>\n",
       "      <th>total_donations</th>\n",
       "    </tr>\n",
       "  </thead>\n",
       "  <tbody>\n",
       "    <tr>\n",
       "      <th>0</th>\n",
       "      <td>NY</td>\n",
       "      <td>Supplies</td>\n",
       "      <td>highest poverty</td>\n",
       "      <td>2002-09-13 00:00:00</td>\n",
       "      <td>251.9</td>\n",
       "    </tr>\n",
       "    <tr>\n",
       "      <th>1</th>\n",
       "      <td>NY</td>\n",
       "      <td>Books</td>\n",
       "      <td>highest poverty</td>\n",
       "      <td>2002-09-13 00:00:00</td>\n",
       "      <td>137.0</td>\n",
       "    </tr>\n",
       "    <tr>\n",
       "      <th>2</th>\n",
       "      <td>NY</td>\n",
       "      <td>Supplies</td>\n",
       "      <td>moderate poverty</td>\n",
       "      <td>2002-09-16 00:00:00</td>\n",
       "      <td>125.0</td>\n",
       "    </tr>\n",
       "    <tr>\n",
       "      <th>3</th>\n",
       "      <td>NY</td>\n",
       "      <td>Supplies</td>\n",
       "      <td>high poverty</td>\n",
       "      <td>2002-09-17 00:00:00</td>\n",
       "      <td>205.0</td>\n",
       "    </tr>\n",
       "    <tr>\n",
       "      <th>4</th>\n",
       "      <td>NY</td>\n",
       "      <td>Supplies</td>\n",
       "      <td>highest poverty</td>\n",
       "      <td>2002-09-17 00:00:00</td>\n",
       "      <td>264.0</td>\n",
       "    </tr>\n",
       "  </tbody>\n",
       "</table>\n",
       "</div>"
      ],
      "text/plain": [
       "  school_state resource_type     poverty_level          date_posted  \\\n",
       "0           NY      Supplies   highest poverty  2002-09-13 00:00:00   \n",
       "1           NY         Books   highest poverty  2002-09-13 00:00:00   \n",
       "2           NY      Supplies  moderate poverty  2002-09-16 00:00:00   \n",
       "3           NY      Supplies      high poverty  2002-09-17 00:00:00   \n",
       "4           NY      Supplies   highest poverty  2002-09-17 00:00:00   \n",
       "\n",
       "   total_donations  \n",
       "0            251.9  \n",
       "1            137.0  \n",
       "2            125.0  \n",
       "3            205.0  \n",
       "4            264.0  "
      ]
     },
     "execution_count": 22,
     "metadata": {},
     "output_type": "execute_result"
    }
   ],
   "source": [
    "part.head()"
   ]
  },
  {
   "cell_type": "code",
   "execution_count": 23,
   "metadata": {
    "collapsed": true
   },
   "outputs": [],
   "source": [
    "part.to_csv('School_Donations.csv', index=False)"
   ]
  },
  {
   "cell_type": "code",
   "execution_count": 2,
   "metadata": {
    "collapsed": true
   },
   "outputs": [],
   "source": [
    "df = pd.read_csv('School_Donations.csv')"
   ]
  },
  {
   "cell_type": "code",
   "execution_count": 3,
   "metadata": {
    "collapsed": false
   },
   "outputs": [
    {
     "data": {
      "text/html": [
       "<div>\n",
       "<style>\n",
       "    .dataframe thead tr:only-child th {\n",
       "        text-align: right;\n",
       "    }\n",
       "\n",
       "    .dataframe thead th {\n",
       "        text-align: left;\n",
       "    }\n",
       "\n",
       "    .dataframe tbody tr th {\n",
       "        vertical-align: top;\n",
       "    }\n",
       "</style>\n",
       "<table border=\"1\" class=\"dataframe\">\n",
       "  <thead>\n",
       "    <tr style=\"text-align: right;\">\n",
       "      <th></th>\n",
       "      <th>Unnamed: 0</th>\n",
       "      <th>school_state</th>\n",
       "      <th>resource_type</th>\n",
       "      <th>poverty_level</th>\n",
       "      <th>date_posted</th>\n",
       "      <th>total_donations</th>\n",
       "    </tr>\n",
       "  </thead>\n",
       "  <tbody>\n",
       "    <tr>\n",
       "      <th>0</th>\n",
       "      <td>0</td>\n",
       "      <td>NY</td>\n",
       "      <td>Supplies</td>\n",
       "      <td>highest poverty</td>\n",
       "      <td>2002-09-13 00:00:00</td>\n",
       "      <td>251.9</td>\n",
       "    </tr>\n",
       "    <tr>\n",
       "      <th>1</th>\n",
       "      <td>1</td>\n",
       "      <td>NY</td>\n",
       "      <td>Books</td>\n",
       "      <td>highest poverty</td>\n",
       "      <td>2002-09-13 00:00:00</td>\n",
       "      <td>137.0</td>\n",
       "    </tr>\n",
       "    <tr>\n",
       "      <th>2</th>\n",
       "      <td>2</td>\n",
       "      <td>NY</td>\n",
       "      <td>Supplies</td>\n",
       "      <td>moderate poverty</td>\n",
       "      <td>2002-09-16 00:00:00</td>\n",
       "      <td>125.0</td>\n",
       "    </tr>\n",
       "    <tr>\n",
       "      <th>3</th>\n",
       "      <td>3</td>\n",
       "      <td>NY</td>\n",
       "      <td>Supplies</td>\n",
       "      <td>high poverty</td>\n",
       "      <td>2002-09-17 00:00:00</td>\n",
       "      <td>205.0</td>\n",
       "    </tr>\n",
       "    <tr>\n",
       "      <th>4</th>\n",
       "      <td>4</td>\n",
       "      <td>NY</td>\n",
       "      <td>Supplies</td>\n",
       "      <td>highest poverty</td>\n",
       "      <td>2002-09-17 00:00:00</td>\n",
       "      <td>264.0</td>\n",
       "    </tr>\n",
       "  </tbody>\n",
       "</table>\n",
       "</div>"
      ],
      "text/plain": [
       "   Unnamed: 0 school_state resource_type     poverty_level  \\\n",
       "0           0           NY      Supplies   highest poverty   \n",
       "1           1           NY         Books   highest poverty   \n",
       "2           2           NY      Supplies  moderate poverty   \n",
       "3           3           NY      Supplies      high poverty   \n",
       "4           4           NY      Supplies   highest poverty   \n",
       "\n",
       "           date_posted  total_donations  \n",
       "0  2002-09-13 00:00:00            251.9  \n",
       "1  2002-09-13 00:00:00            137.0  \n",
       "2  2002-09-16 00:00:00            125.0  \n",
       "3  2002-09-17 00:00:00            205.0  \n",
       "4  2002-09-17 00:00:00            264.0  "
      ]
     },
     "execution_count": 3,
     "metadata": {},
     "output_type": "execute_result"
    }
   ],
   "source": [
    "df.head()"
   ]
  },
  {
   "cell_type": "code",
   "execution_count": 7,
   "metadata": {
    "collapsed": false
   },
   "outputs": [
    {
     "data": {
      "text/plain": [
       "['Unnamed: 0',\n",
       " 'school_state',\n",
       " 'resource_type',\n",
       " 'poverty_level',\n",
       " 'date_posted',\n",
       " 'total_donations']"
      ]
     },
     "execution_count": 7,
     "metadata": {},
     "output_type": "execute_result"
    }
   ],
   "source": [
    "df.columns.tolist()"
   ]
  },
  {
   "cell_type": "code",
   "execution_count": 8,
   "metadata": {
    "collapsed": false
   },
   "outputs": [
    {
     "data": {
      "text/plain": [
       "array(['highest poverty', 'moderate poverty', 'high poverty', 'low poverty'], dtype=object)"
      ]
     },
     "execution_count": 8,
     "metadata": {},
     "output_type": "execute_result"
    }
   ],
   "source": [
    "df['poverty_level'].unique()"
   ]
  },
  {
   "cell_type": "code",
   "execution_count": 9,
   "metadata": {
    "collapsed": false
   },
   "outputs": [
    {
     "data": {
      "text/plain": [
       "Unnamed: 0           int64\n",
       "school_state        object\n",
       "resource_type       object\n",
       "poverty_level       object\n",
       "date_posted         object\n",
       "total_donations    float64\n",
       "dtype: object"
      ]
     },
     "execution_count": 9,
     "metadata": {},
     "output_type": "execute_result"
    }
   ],
   "source": [
    "df.dtypes"
   ]
  },
  {
   "cell_type": "code",
   "execution_count": 10,
   "metadata": {
    "collapsed": true
   },
   "outputs": [],
   "source": [
    "import datetime"
   ]
  },
  {
   "cell_type": "code",
   "execution_count": null,
   "metadata": {
    "collapsed": true
   },
   "outputs": [],
   "source": [
    "par"
   ]
  }
 ],
 "metadata": {
  "anaconda-cloud": {},
  "kernelspec": {
   "display_name": "Python [Root]",
   "language": "python",
   "name": "Python [Root]"
  },
  "language_info": {
   "codemirror_mode": {
    "name": "ipython",
    "version": 3
   },
   "file_extension": ".py",
   "mimetype": "text/x-python",
   "name": "python",
   "nbconvert_exporter": "python",
   "pygments_lexer": "ipython3",
   "version": "3.5.2"
  }
 },
 "nbformat": 4,
 "nbformat_minor": 0
}
